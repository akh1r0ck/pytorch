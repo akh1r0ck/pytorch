{
  "nbformat": 4,
  "nbformat_minor": 0,
  "metadata": {
    "colab": {
      "name": "pytorch_autoencoders.ipynb",
      "provenance": [],
      "collapsed_sections": [],
      "include_colab_link": true
    },
    "kernelspec": {
      "name": "python3",
      "display_name": "Python 3"
    },
    "accelerator": "GPU"
  },
  "cells": [
    {
      "cell_type": "markdown",
      "metadata": {
        "id": "view-in-github",
        "colab_type": "text"
      },
      "source": [
        "<a href=\"https://colab.research.google.com/github/akh1r0ck/pytorch/blob/master/pytorch_autoencoders.ipynb\" target=\"_parent\"><img src=\"https://colab.research.google.com/assets/colab-badge.svg\" alt=\"Open In Colab\"/></a>"
      ]
    },
    {
      "cell_type": "markdown",
      "metadata": {
        "id": "VOLqYJp5TEh2",
        "colab_type": "text"
      },
      "source": [
        "# autoencoders"
      ]
    },
    {
      "cell_type": "markdown",
      "metadata": {
        "id": "xUUMLgVJTI3F",
        "colab_type": "text"
      },
      "source": [
        "## fully connected autoencoder"
      ]
    },
    {
      "cell_type": "markdown",
      "metadata": {
        "id": "cLcJXzNjTPKD",
        "colab_type": "text"
      },
      "source": [
        "### setup neural network"
      ]
    },
    {
      "cell_type": "code",
      "metadata": {
        "id": "BPuLAfErSrof",
        "colab_type": "code",
        "outputId": "b3efd08f-e1ac-40c7-942d-bf48a0695e18",
        "colab": {
          "base_uri": "https://localhost:8080/",
          "height": 123
        }
      },
      "source": [
        "import torch\n",
        "import torch.nn as nn\n",
        "import torch.nn.functional as F\n",
        "import torch.optim as optim\n",
        "\n",
        "class Autoencoder(nn.Module):\n",
        "  def __init__(self):\n",
        "    super(Autoencoder, self).__init__()\n",
        "    self.en1 = nn.Linear(784,100)\n",
        "    self.en2 = nn.Linear(100, 10)\n",
        "    self.de1 = nn.Linear( 10,100)\n",
        "    self.de2 = nn.Linear(100,784)\n",
        "\n",
        "  def forward(self, x):\n",
        "    h = F.relu(self.en1(x))\n",
        "    h = F.relu(self.en2(h))\n",
        "    h = F.relu(self.de1(h))\n",
        "    h = self.de2(h)\n",
        "    return h\n",
        "\n",
        "ae = Autoencoder()\n",
        "print(ae)\n",
        "criterion = nn.MSELoss()\n",
        "optimizer = optim.Adam(ae.parameters())"
      ],
      "execution_count": 0,
      "outputs": [
        {
          "output_type": "stream",
          "text": [
            "Autoencoder(\n",
            "  (en1): Linear(in_features=784, out_features=100, bias=True)\n",
            "  (en2): Linear(in_features=100, out_features=10, bias=True)\n",
            "  (de1): Linear(in_features=10, out_features=100, bias=True)\n",
            "  (de2): Linear(in_features=100, out_features=784, bias=True)\n",
            ")\n"
          ],
          "name": "stdout"
        }
      ]
    },
    {
      "cell_type": "markdown",
      "metadata": {
        "id": "WXI0-NYOVCFf",
        "colab_type": "text"
      },
      "source": [
        "### dataset"
      ]
    },
    {
      "cell_type": "code",
      "metadata": {
        "id": "137bQDJwYZ3I",
        "colab_type": "code",
        "colab": {}
      },
      "source": [
        "import torchvision\n",
        "import torchvision.transforms as transforms\n",
        "\n",
        "transform = transforms.Compose( [transforms.ToTensor(),　transforms.Normalize((0.5, ), (0.5, ))])\n",
        "\n",
        "trainset = torchvision.datasets.MNIST(root='./data', train=True, download=True, transform=transform)\n",
        "trainloader = torch.utils.data.DataLoader(trainset, batch_size=4, shuffle=True, num_workers=2)\n",
        "\n",
        "testset = torchvision.datasets.MNIST(root='./data', train=False, download=True, transform=transform)\n",
        "testloader = torch.utils.data.DataLoader(testset, batch_size=4, shuffle=False, num_workers=2)"
      ],
      "execution_count": 0,
      "outputs": []
    },
    {
      "cell_type": "markdown",
      "metadata": {
        "id": "5CdyTWd8V33V",
        "colab_type": "text"
      },
      "source": [
        "### train"
      ]
    },
    {
      "cell_type": "code",
      "metadata": {
        "id": "DgXKZycPVIY0",
        "colab_type": "code",
        "outputId": "0480a9c2-0f40-4274-8694-ad2353705fb2",
        "colab": {
          "base_uri": "https://localhost:8080/",
          "height": 243
        }
      },
      "source": [
        "for epoch in range(2):\n",
        "\n",
        "  running_loss = 0.0\n",
        "  for i, data in enumerate(trainloader, 0):\n",
        "    inputs, labels = data\n",
        "    inputs = inputs.view([4,784])\n",
        "\n",
        "    optimizer.zero_grad()\n",
        "\n",
        "    outputs = ae(inputs)\n",
        "\n",
        "    loss = criterion(outputs, inputs)\n",
        "    loss.backward()\n",
        "    optimizer.step()\n",
        "\n",
        "    running_loss += loss.item()\n",
        "    if i % 2000 == 1999:\n",
        "      print(\"[{}, {}] loss: {}\".format(epoch+1, i+1, running_loss/2000))\n",
        "      running_loss = 0.0\n",
        "     "
      ],
      "execution_count": 0,
      "outputs": [
        {
          "output_type": "error",
          "ename": "RuntimeError",
          "evalue": "ignored",
          "traceback": [
            "\u001b[0;31m---------------------------------------------------------------------------\u001b[0m",
            "\u001b[0;31mRuntimeError\u001b[0m                              Traceback (most recent call last)",
            "\u001b[0;32m<ipython-input-57-4b72d89fcd44>\u001b[0m in \u001b[0;36m<module>\u001b[0;34m()\u001b[0m\n\u001b[1;32m      4\u001b[0m   \u001b[0;32mfor\u001b[0m \u001b[0mi\u001b[0m\u001b[0;34m,\u001b[0m \u001b[0mdata\u001b[0m \u001b[0;32min\u001b[0m \u001b[0menumerate\u001b[0m\u001b[0;34m(\u001b[0m\u001b[0mtrainloader\u001b[0m\u001b[0;34m,\u001b[0m \u001b[0;36m0\u001b[0m\u001b[0;34m)\u001b[0m\u001b[0;34m:\u001b[0m\u001b[0;34m\u001b[0m\u001b[0;34m\u001b[0m\u001b[0m\n\u001b[1;32m      5\u001b[0m     \u001b[0minputs\u001b[0m\u001b[0;34m,\u001b[0m \u001b[0mlabels\u001b[0m \u001b[0;34m=\u001b[0m \u001b[0mdata\u001b[0m\u001b[0;34m\u001b[0m\u001b[0;34m\u001b[0m\u001b[0m\n\u001b[0;32m----> 6\u001b[0;31m     \u001b[0minputs\u001b[0m \u001b[0;34m=\u001b[0m \u001b[0minputs\u001b[0m\u001b[0;34m.\u001b[0m\u001b[0mview\u001b[0m\u001b[0;34m(\u001b[0m\u001b[0;34m[\u001b[0m\u001b[0;36m4\u001b[0m\u001b[0;34m,\u001b[0m\u001b[0;36m784\u001b[0m\u001b[0;34m]\u001b[0m\u001b[0;34m)\u001b[0m\u001b[0;34m\u001b[0m\u001b[0;34m\u001b[0m\u001b[0m\n\u001b[0m\u001b[1;32m      7\u001b[0m \u001b[0;34m\u001b[0m\u001b[0m\n\u001b[1;32m      8\u001b[0m     \u001b[0moptimizer\u001b[0m\u001b[0;34m.\u001b[0m\u001b[0mzero_grad\u001b[0m\u001b[0;34m(\u001b[0m\u001b[0;34m)\u001b[0m\u001b[0;34m\u001b[0m\u001b[0;34m\u001b[0m\u001b[0m\n",
            "\u001b[0;31mRuntimeError\u001b[0m: shape '[4, 784]' is invalid for input of size 12288"
          ]
        }
      ]
    },
    {
      "cell_type": "markdown",
      "metadata": {
        "id": "KyJFJyb9eBdo",
        "colab_type": "text"
      },
      "source": [
        "### test"
      ]
    },
    {
      "cell_type": "code",
      "metadata": {
        "id": "hY0pzlb5eBFV",
        "colab_type": "code",
        "outputId": "50bf6ba7-bd94-4a15-a66c-cf04d2e538fe",
        "colab": {
          "base_uri": "https://localhost:8080/",
          "height": 276
        }
      },
      "source": [
        "import matplotlib.pyplot as plt\n",
        "import numpy as np\n",
        "\n",
        "def imshow(img):\n",
        "  img = img / 2 + 0.5     # unnormalize\n",
        "  npimg = img.numpy()\n",
        "  plt.imshow(np.transpose(npimg, (1, 2, 0)))\n",
        "  plt.show()\n",
        "\n",
        "dataiter = iter(testloader)\n",
        "images, labels = dataiter.next()\n",
        "\n",
        "imshow(torchvision.utils.make_grid(images))\n",
        "\n",
        "images = images.view([4,784])\n",
        "outputs = ae(images).view([4,1,28,28]).detach()\n",
        "\n",
        "imshow(torchvision.utils.make_grid(outputs))\n"
      ],
      "execution_count": 0,
      "outputs": [
        {
          "output_type": "display_data",
          "data": {
            "image/png": "[encoded data removed]",
            "text/plain": [
              "<Figure size 432x288 with 1 Axes>"
            ]
          },
          "metadata": {
            "tags": []
          }
        },
        {
          "output_type": "stream",
          "text": [
            "Clipping input data to the valid range for imshow with RGB data ([0..1] for floats or [0..255] for integers).\n"
          ],
          "name": "stderr"
        },
        {
          "output_type": "display_data",
          "data": {
            "image/png": "[encoded data removed]",
            "text/plain": [
              "<Figure size 432x288 with 1 Axes>"
            ]
          },
          "metadata": {
            "tags": []
          }
        }
      ]
    },
    {
      "cell_type": "code",
      "metadata": {
        "id": "AsSDiXIleU5T",
        "colab_type": "code",
        "colab": {}
      },
      "source": [
        "imshow(torchvision.utils.make_grid(images))\n"
      ],
      "execution_count": 0,
      "outputs": []
    },
    {
      "cell_type": "markdown",
      "metadata": {
        "id": "mDqGSSaOhQ1I",
        "colab_type": "text"
      },
      "source": [
        "## convolutional autoencoder"
      ]
    },
    {
      "cell_type": "markdown",
      "metadata": {
        "id": "HrAQ_OmzjO-r",
        "colab_type": "text"
      },
      "source": [
        "### setup neural network"
      ]
    },
    {
      "cell_type": "code",
      "metadata": {
        "id": "Ey_VzdefhP_9",
        "colab_type": "code",
        "outputId": "c0e6db50-30fe-4a0f-8349-a9763d504e4f",
        "colab": {
          "base_uri": "https://localhost:8080/",
          "height": 158
        }
      },
      "source": [
        "class ConvolutionalAutoencoder(nn.Module):\n",
        "  def __init__(self):\n",
        "    super(ConvolutionalAutoencoder, self).__init__()\n",
        "    self.en1 = nn.Conv2d(3, 8, 3)\n",
        "    self.en2 = nn.Conv2d(8,16, 3)\n",
        "    self.en3 = nn.Conv2d(16,16, 3)\n",
        "    self.de1 = nn.ConvTranspose2d(16, 16, 3)\n",
        "    self.de2 = nn.ConvTranspose2d(16,8,3)\n",
        "    self.de3 = nn.ConvTranspose2d(8,3,3)\n",
        "\n",
        "  def forward(self,x):\n",
        "    h = self.en1(x)\n",
        "    h = self.en2(h)\n",
        "    h = self.en3(h)\n",
        "    h = self.de1(h)\n",
        "    h = self.de2(h)\n",
        "    h = self.de3(h)\n",
        "    return h\n"
      ],
      "execution_count": 0,
      "outputs": [
        {
          "output_type": "stream",
          "text": [
            "ConvolutionalAutoencoder(\n",
            "  (en1): Conv2d(3, 8, kernel_size=(3, 3), stride=(1, 1))\n",
            "  (en2): Conv2d(8, 16, kernel_size=(3, 3), stride=(1, 1))\n",
            "  (en3): Conv2d(16, 16, kernel_size=(3, 3), stride=(1, 1))\n",
            "  (de1): ConvTranspose2d(16, 16, kernel_size=(3, 3), stride=(1, 1))\n",
            "  (de2): ConvTranspose2d(16, 8, kernel_size=(3, 3), stride=(1, 1))\n",
            "  (de3): ConvTranspose2d(8, 3, kernel_size=(3, 3), stride=(1, 1))\n",
            ")\n"
          ],
          "name": "stdout"
        }
      ]
    },
    {
      "cell_type": "markdown",
      "metadata": {
        "id": "08l8KJ4XlVfc",
        "colab_type": "text"
      },
      "source": [
        "### gpu setup"
      ]
    },
    {
      "cell_type": "code",
      "metadata": {
        "id": "BYdXr6BjlVLj",
        "colab_type": "code",
        "colab": {}
      },
      "source": [
        "cae = ConvolutionalAutoencoder()\n",
        "device = torch.device(\"cuda:0\")\n",
        "cae.to(device)\n",
        "optimizer = optim.Adam(cae.parameters())"
      ],
      "execution_count": 0,
      "outputs": []
    },
    {
      "cell_type": "markdown",
      "metadata": {
        "id": "x69mc-e8jWFU",
        "colab_type": "text"
      },
      "source": [
        "### dataset"
      ]
    },
    {
      "cell_type": "code",
      "metadata": {
        "id": "Nvi-oH3Hiznu",
        "colab_type": "code",
        "outputId": "7d49e63f-00f1-4a86-e367-182ee23ae47b",
        "colab": {
          "base_uri": "https://localhost:8080/",
          "height": 52
        }
      },
      "source": [
        "transform_cifar = transforms.Compose(\n",
        "    [transforms.ToTensor(),\n",
        "     transforms.Normalize((0.5, 0.5, 0.5), (0.5, 0.5, 0.5))])\n",
        "\n",
        "trainset_cifar = torchvision.datasets.CIFAR10(root='./data', train=True,\n",
        "                                        download=True, transform=transform_cifar)\n",
        "trainloader_cifar = torch.utils.data.DataLoader(trainset_cifar, batch_size=4,\n",
        "                                          shuffle=True, num_workers=2)\n",
        "\n",
        "testset_cifar = torchvision.datasets.CIFAR10(root='./data', train=False,\n",
        "                                       download=True, transform=transform_cifar)\n",
        "testloader_cifar = torch.utils.data.DataLoader(testset_cifar, batch_size=4,\n",
        "                                         shuffle=False, num_workers=2)"
      ],
      "execution_count": 0,
      "outputs": [
        {
          "output_type": "stream",
          "text": [
            "Files already downloaded and verified\n",
            "Files already downloaded and verified\n"
          ],
          "name": "stdout"
        }
      ]
    },
    {
      "cell_type": "markdown",
      "metadata": {
        "id": "GkNxsuSrjYvD",
        "colab_type": "text"
      },
      "source": [
        "### train"
      ]
    },
    {
      "cell_type": "code",
      "metadata": {
        "id": "UYysJiivjFvR",
        "colab_type": "code",
        "outputId": "708f5624-b8a6-44a7-f5d0-f98ab94623ab",
        "colab": {
          "base_uri": "https://localhost:8080/",
          "height": 1000
        }
      },
      "source": [
        "for epoch in range(10):\n",
        "\n",
        "  running_loss = 0.0\n",
        "  for i, data in enumerate(trainloader_cifar, 0):\n",
        "    inputs, labels = data\n",
        "    inputs = inputs.view([4,3, 32, 32])\n",
        "    inputs = inputs.to(device)\n",
        "\n",
        "    optimizer.zero_grad()\n",
        "\n",
        "    outputs = cae(inputs)\n",
        "\n",
        "    loss = criterion(outputs, inputs)\n",
        "    loss.backward()\n",
        "    optimizer.step()\n",
        "\n",
        "    running_loss += loss.item()\n",
        "    if i % 2000 == 1999:\n",
        "      print(\"[{}, {}] loss: {}\".format(epoch+1, i+1, running_loss/2000))\n",
        "      running_loss = 0.0"
      ],
      "execution_count": 0,
      "outputs": [
        {
          "output_type": "stream",
          "text": [
            "[1, 2000] loss: 0.04913564313296229\n",
            "[1, 4000] loss: 0.042082443486899136\n",
            "[1, 6000] loss: 0.04108951734611765\n",
            "[1, 8000] loss: 0.04035177230136469\n",
            "[1, 10000] loss: 0.04061792579991743\n",
            "[1, 12000] loss: 0.03981486314209178\n",
            "[2, 2000] loss: 0.03997223678138107\n",
            "[2, 4000] loss: 0.03961099513946101\n",
            "[2, 6000] loss: 0.03992756731342524\n",
            "[2, 8000] loss: 0.03975114209204912\n",
            "[2, 10000] loss: 0.03965334097994491\n",
            "[2, 12000] loss: 0.03893592622177675\n",
            "[3, 2000] loss: 0.039326206754427405\n",
            "[3, 4000] loss: 0.03948005101364106\n",
            "[3, 6000] loss: 0.039088507062755525\n",
            "[3, 8000] loss: 0.0391836582813412\n",
            "[3, 10000] loss: 0.03933317320793867\n",
            "[3, 12000] loss: 0.03917441713018343\n",
            "[4, 2000] loss: 0.039214844384230674\n",
            "[4, 4000] loss: 0.039119689553510396\n",
            "[4, 6000] loss: 0.03906241378374398\n",
            "[4, 8000] loss: 0.039278485105838624\n",
            "[4, 10000] loss: 0.039074445828795434\n",
            "[4, 12000] loss: 0.039219803483691064\n",
            "[5, 2000] loss: 0.03913482749182731\n",
            "[5, 4000] loss: 0.03928479335643351\n",
            "[5, 6000] loss: 0.03923202970949933\n",
            "[5, 8000] loss: 0.03910149456793442\n",
            "[5, 10000] loss: 0.03874958110135049\n",
            "[5, 12000] loss: 0.03895766607066616\n",
            "[6, 2000] loss: 0.03888483529444784\n",
            "[6, 4000] loss: 0.038954506257083264\n",
            "[6, 6000] loss: 0.03916547154309228\n",
            "[6, 8000] loss: 0.03887923134025186\n",
            "[6, 10000] loss: 0.03907097967527807\n",
            "[6, 12000] loss: 0.03922854645829648\n",
            "[7, 2000] loss: 0.03911225311458111\n",
            "[7, 4000] loss: 0.0386548823453486\n",
            "[7, 6000] loss: 0.03899298021104187\n",
            "[7, 8000] loss: 0.0388292270260863\n",
            "[7, 10000] loss: 0.03914066576305777\n",
            "[7, 12000] loss: 0.03915075698727742\n",
            "[8, 2000] loss: 0.03862579648196697\n",
            "[8, 4000] loss: 0.038693439309950915\n",
            "[8, 6000] loss: 0.03928089258959517\n",
            "[8, 8000] loss: 0.03844662055047229\n",
            "[8, 10000] loss: 0.03883816820615903\n",
            "[8, 12000] loss: 0.03956786644458771\n",
            "[9, 2000] loss: 0.03869478462776169\n",
            "[9, 4000] loss: 0.03896185397496447\n",
            "[9, 6000] loss: 0.03836071607843041\n",
            "[9, 8000] loss: 0.0387938000052236\n",
            "[9, 10000] loss: 0.03917094958107919\n",
            "[9, 12000] loss: 0.03935532753821462\n",
            "[10, 2000] loss: 0.03900792249338701\n",
            "[10, 4000] loss: 0.03887270329706371\n",
            "[10, 6000] loss: 0.0388249451383017\n",
            "[10, 8000] loss: 0.038773015653714535\n",
            "[10, 10000] loss: 0.03891178622981534\n",
            "[10, 12000] loss: 0.03908157888380811\n"
          ],
          "name": "stdout"
        }
      ]
    },
    {
      "cell_type": "markdown",
      "metadata": {
        "id": "ocXqlKQXjbct",
        "colab_type": "text"
      },
      "source": [
        "### test"
      ]
    },
    {
      "cell_type": "code",
      "metadata": {
        "id": "fKJsiEvxjcMK",
        "colab_type": "code",
        "outputId": "ad787894-4211-4ca2-c171-fb8a249d73b2",
        "colab": {
          "base_uri": "https://localhost:8080/",
          "height": 276
        }
      },
      "source": [
        "dataiter = iter(testloader_cifar)\n",
        "images, labels = dataiter.next()\n",
        "\n",
        "imshow(torchvision.utils.make_grid(images))\n",
        "cae = cae.cpu()\n",
        "images = images.view([4, 3, 32, 32])\n",
        "outputs = cae(images).view([4, 3, 32, 32]).detach()\n",
        "\n",
        "imshow(torchvision.utils.make_grid(outputs))\n"
      ],
      "execution_count": 0,
      "outputs": [
        {
          "output_type": "display_data",
          "data": {
            "image/png": "[encoded data removed]",
            "text/plain": [
              "<Figure size 432x288 with 1 Axes>"
            ]
          },
          "metadata": {
            "tags": []
          }
        },
        {
          "output_type": "stream",
          "text": [
            "Clipping input data to the valid range for imshow with RGB data ([0..1] for floats or [0..255] for integers).\n"
          ],
          "name": "stderr"
        },
        {
          "output_type": "display_data",
          "data": {
            "image/png": "[encoded data removed]",
            "text/plain": [
              "<Figure size 432x288 with 1 Axes>"
            ]
          },
          "metadata": {
            "tags": []
          }
        }
      ]
    },
    {
      "cell_type": "code",
      "metadata": {
        "id": "-vpu5ecjlRH2",
        "colab_type": "code",
        "colab": {}
      },
      "source": [
        ""
      ],
      "execution_count": 0,
      "outputs": []
    }
  ]
}